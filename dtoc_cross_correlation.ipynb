{
 "cells": [
  {
   "cell_type": "markdown",
   "metadata": {},
   "source": [
    "# Cross correlation of DTOCs and ED Breaches"
   ]
  },
  {
   "cell_type": "code",
   "execution_count": 1,
   "metadata": {
    "collapsed": false
   },
   "outputs": [
    {
     "name": "stderr",
     "output_type": "stream",
     "text": [
      "C:\\Anaconda3\\lib\\site-packages\\statsmodels\\compat\\pandas.py:56: FutureWarning: The pandas.core.datetools module is deprecated and will be removed in a future version. Please use the pandas.tseries module instead.\n",
      "  from pandas.core import datetools\n"
     ]
    }
   ],
   "source": [
    "import numpy as np\n",
    "import pandas as pd\n",
    "from scipy import signal\n",
    "import matplotlib.pyplot as plt\n",
    "import seaborn as sns\n",
    "from statsmodels.tsa.stattools import adfuller\n",
    "%matplotlib inline"
   ]
  },
  {
   "cell_type": "code",
   "execution_count": 2,
   "metadata": {
    "collapsed": false
   },
   "outputs": [
    {
     "data": {
      "text/plain": [
       "(80, 10)"
      ]
     },
     "execution_count": 2,
     "metadata": {},
     "output_type": "execute_result"
    }
   ],
   "source": [
    "df_dtoc = pd.read_csv('dtoc.csv')\n",
    "df_dtoc.shape"
   ]
  },
  {
   "cell_type": "code",
   "execution_count": 3,
   "metadata": {
    "collapsed": false
   },
   "outputs": [
    {
     "data": {
      "text/html": [
       "<div>\n",
       "<style scoped>\n",
       "    .dataframe tbody tr th:only-of-type {\n",
       "        vertical-align: middle;\n",
       "    }\n",
       "\n",
       "    .dataframe tbody tr th {\n",
       "        vertical-align: top;\n",
       "    }\n",
       "\n",
       "    .dataframe thead th {\n",
       "        text-align: right;\n",
       "    }\n",
       "</style>\n",
       "<table border=\"1\" class=\"dataframe\">\n",
       "  <thead>\n",
       "    <tr style=\"text-align: right;\">\n",
       "      <th></th>\n",
       "      <th>year</th>\n",
       "      <th>month</th>\n",
       "      <th>total_atten</th>\n",
       "      <th>total_atten_t1</th>\n",
       "      <th>total_atten_&gt;4hr</th>\n",
       "      <th>95%_targ</th>\n",
       "      <th>total_admissions</th>\n",
       "      <th>dtoc_a</th>\n",
       "      <th>dtoc_na</th>\n",
       "      <th>dtoc_total</th>\n",
       "    </tr>\n",
       "  </thead>\n",
       "  <tbody>\n",
       "    <tr>\n",
       "      <th>0</th>\n",
       "      <td>2010-11</td>\n",
       "      <td>August</td>\n",
       "      <td>1719197.000</td>\n",
       "      <td>1138652.000</td>\n",
       "      <td>33184.00000</td>\n",
       "      <td>0.980698</td>\n",
       "      <td>425702.0000</td>\n",
       "      <td>2559</td>\n",
       "      <td>2381</td>\n",
       "      <td>4940</td>\n",
       "    </tr>\n",
       "    <tr>\n",
       "      <th>1</th>\n",
       "      <td>2010-11</td>\n",
       "      <td>September</td>\n",
       "      <td>1715117.000</td>\n",
       "      <td>1150728.000</td>\n",
       "      <td>41151.00000</td>\n",
       "      <td>0.976007</td>\n",
       "      <td>424900.0000</td>\n",
       "      <td>2647</td>\n",
       "      <td>2357</td>\n",
       "      <td>5004</td>\n",
       "    </tr>\n",
       "    <tr>\n",
       "      <th>2</th>\n",
       "      <td>2010-11</td>\n",
       "      <td>October</td>\n",
       "      <td>1753934.000</td>\n",
       "      <td>1163143.000</td>\n",
       "      <td>47414.00000</td>\n",
       "      <td>0.972967</td>\n",
       "      <td>436215.0000</td>\n",
       "      <td>2513</td>\n",
       "      <td>2075</td>\n",
       "      <td>4588</td>\n",
       "    </tr>\n",
       "    <tr>\n",
       "      <th>3</th>\n",
       "      <td>2010-11</td>\n",
       "      <td>November</td>\n",
       "      <td>1604591.000</td>\n",
       "      <td>1111294.571</td>\n",
       "      <td>46436.42857</td>\n",
       "      <td>0.971060</td>\n",
       "      <td>429099.0000</td>\n",
       "      <td>2352</td>\n",
       "      <td>2057</td>\n",
       "      <td>4409</td>\n",
       "    </tr>\n",
       "    <tr>\n",
       "      <th>4</th>\n",
       "      <td>2010-11</td>\n",
       "      <td>December</td>\n",
       "      <td>1647823.857</td>\n",
       "      <td>1159203.857</td>\n",
       "      <td>89917.28571</td>\n",
       "      <td>0.945433</td>\n",
       "      <td>452728.7143</td>\n",
       "      <td>1995</td>\n",
       "      <td>1866</td>\n",
       "      <td>3861</td>\n",
       "    </tr>\n",
       "  </tbody>\n",
       "</table>\n",
       "</div>"
      ],
      "text/plain": [
       "      year      month  total_atten  total_atten_t1  total_atten_>4hr  \\\n",
       "0  2010-11     August  1719197.000     1138652.000       33184.00000   \n",
       "1  2010-11  September  1715117.000     1150728.000       41151.00000   \n",
       "2  2010-11    October  1753934.000     1163143.000       47414.00000   \n",
       "3  2010-11   November  1604591.000     1111294.571       46436.42857   \n",
       "4  2010-11   December  1647823.857     1159203.857       89917.28571   \n",
       "\n",
       "   95%_targ  total_admissions  dtoc_a  dtoc_na  dtoc_total  \n",
       "0  0.980698       425702.0000    2559     2381        4940  \n",
       "1  0.976007       424900.0000    2647     2357        5004  \n",
       "2  0.972967       436215.0000    2513     2075        4588  \n",
       "3  0.971060       429099.0000    2352     2057        4409  \n",
       "4  0.945433       452728.7143    1995     1866        3861  "
      ]
     },
     "execution_count": 3,
     "metadata": {},
     "output_type": "execute_result"
    }
   ],
   "source": [
    "df_dtoc.head()"
   ]
  },
  {
   "cell_type": "markdown",
   "metadata": {},
   "source": [
    "dickey fuller test of stationarity\n",
    "\n",
    "Notes: both are ns - this means that they are non-stationary"
   ]
  },
  {
   "cell_type": "code",
   "execution_count": 4,
   "metadata": {
    "collapsed": false
   },
   "outputs": [],
   "source": [
    "def check_stationarity(series):\n",
    "    result = adfuller(series)\n",
    "    print('ADF Statistic: %f' % result[0])\n",
    "    print('p-value: %f' % result[1])\n",
    "    for key, value in result[4].items():\n",
    "        print('\\t%s: %.3f' % (key, value))"
   ]
  },
  {
   "cell_type": "code",
   "execution_count": 5,
   "metadata": {
    "collapsed": false
   },
   "outputs": [
    {
     "name": "stdout",
     "output_type": "stream",
     "text": [
      "ADF Statistic: -1.529597\n",
      "p-value: 0.518823\n",
      "\t5%: -2.899\n",
      "\t10%: -2.587\n",
      "\t1%: -3.516\n"
     ]
    }
   ],
   "source": [
    "check_stationarity(df_dtoc['total_atten_>4hr'])"
   ]
  },
  {
   "cell_type": "code",
   "execution_count": 6,
   "metadata": {
    "collapsed": false
   },
   "outputs": [
    {
     "name": "stdout",
     "output_type": "stream",
     "text": [
      "ADF Statistic: 0.603833\n",
      "p-value: 0.987710\n",
      "\t5%: -2.906\n",
      "\t10%: -2.590\n",
      "\t1%: -3.532\n"
     ]
    }
   ],
   "source": [
    "check_stationarity(df_dtoc['dtoc_total'])"
   ]
  },
  {
   "cell_type": "markdown",
   "metadata": {},
   "source": [
    "Difference time series"
   ]
  },
  {
   "cell_type": "code",
   "execution_count": 7,
   "metadata": {
    "collapsed": false
   },
   "outputs": [],
   "source": [
    "breaches_diff = df_dtoc['total_atten_>4hr'].diff()\n",
    "dtoc_total_diff = df_dtoc['dtoc_total'].diff()"
   ]
  },
  {
   "cell_type": "code",
   "execution_count": 8,
   "metadata": {
    "collapsed": false
   },
   "outputs": [
    {
     "name": "stdout",
     "output_type": "stream",
     "text": [
      "ADF Statistic: -3.591030\n",
      "p-value: 0.005935\n",
      "\t5%: -2.904\n",
      "\t10%: -2.590\n",
      "\t1%: -3.529\n"
     ]
    }
   ],
   "source": [
    "check_stationarity(breaches_diff.loc[breaches_diff.index > 0])"
   ]
  },
  {
   "cell_type": "code",
   "execution_count": 9,
   "metadata": {
    "collapsed": false
   },
   "outputs": [
    {
     "name": "stdout",
     "output_type": "stream",
     "text": [
      "ADF Statistic: -1.538870\n",
      "p-value: 0.514203\n",
      "\t5%: -2.906\n",
      "\t10%: -2.590\n",
      "\t1%: -3.532\n"
     ]
    }
   ],
   "source": [
    "check_stationarity(dtoc_total_diff.loc[dtoc_total_diff.index > 0])"
   ]
  },
  {
   "cell_type": "code",
   "execution_count": 18,
   "metadata": {
    "collapsed": false
   },
   "outputs": [
    {
     "name": "stdout",
     "output_type": "stream",
     "text": [
      " Volume in drive C is Windows\n",
      " Volume Serial Number is EE63-178E\n",
      "\n",
      " Directory of C:\\Users\\bjk1y13\\OneDrive - University of Southampton\\MH000_DTOC\\Example_Cross_Correlation\n",
      "\n",
      "24/05/2018  11:29    <DIR>          .\n",
      "24/05/2018  11:29    <DIR>          ..\n",
      "23/05/2018  13:58             1,307 .gitignore\n",
      "24/05/2018  10:58    <DIR>          .ipynb_checkpoints\n",
      "23/05/2018  13:58             6,782 dtoc.csv\n",
      "24/05/2018  11:29           287,417 dtoc_cross_correlation-bk_version.ipynb\n",
      "24/05/2018  10:32            89,126 dtoc_cross_correlation.ipynb\n",
      "23/05/2018  13:58             1,108 LICENSE\n",
      "23/05/2018  13:58               100 README.md\n",
      "               6 File(s)        385,840 bytes\n",
      "               3 Dir(s)  361,415,647,232 bytes free\n"
     ]
    }
   ],
   "source": [
    "!dir"
   ]
  },
  {
   "cell_type": "markdown",
   "metadata": {},
   "source": [
    "Still non-stationary!"
   ]
  },
  {
   "cell_type": "markdown",
   "metadata": {},
   "source": [
    "Cross correlation"
   ]
  },
  {
   "cell_type": "code",
   "execution_count": 16,
   "metadata": {
    "collapsed": false
   },
   "outputs": [],
   "source": [
    "corr = signal.correlate(breaches_diff.loc[breaches_diff.index > 0], dtoc_total_diff.loc[dtoc_total_diff.index > 0], mode='same')\n",
    "corr = corr/np.max(corr)"
   ]
  },
  {
   "cell_type": "code",
   "execution_count": 17,
   "metadata": {
    "collapsed": false
   },
   "outputs": [
    {
     "data": {
      "text/plain": [
       "array([-0.031095  , -0.20335956,  0.38459396, -0.41261818,  0.11130306,\n",
       "        0.08577231,  0.08838375, -0.06729572,  0.11161554, -0.09704551,\n",
       "        0.0390094 ,  0.07925815, -0.06982432, -0.27707208,  0.84150052,\n",
       "       -0.76577347,  0.09994513,  0.27966684,  0.24253224, -0.22504499,\n",
       "        0.15192814,  0.14108554, -0.05345219,  0.0500672 ,  0.00137918,\n",
       "       -0.39929243,  0.60789204, -0.5964866 ,  0.24174293,  0.45461113,\n",
       "       -0.59752776,  0.47416062, -0.01633332,  0.34906168, -0.19310959,\n",
       "        0.06435728,  0.05572599, -0.42949033,  1.        , -0.52156085,\n",
       "       -0.32759322,  0.52430483, -0.00795537,  0.26503555, -0.0620705 ,\n",
       "        0.20753387, -0.14547037,  0.00873971,  0.14086149, -0.44777185,\n",
       "        0.29784979, -0.23123086, -0.15053325,  0.51757893, -0.48970572,\n",
       "        0.43231282, -0.03956975,  0.150028  , -0.12616957,  0.19795209,\n",
       "       -0.08280844, -0.17151977,  0.36496027, -0.27481595, -0.39137023,\n",
       "        0.56892455, -0.2866285 ,  0.06749632, -0.09419779,  0.3838282 ,\n",
       "       -0.2251624 ,  0.16399216, -0.04480732, -0.06256207,  0.20406505,\n",
       "       -0.27224412, -0.29026653,  0.37525818, -0.41257104])"
      ]
     },
     "execution_count": 17,
     "metadata": {},
     "output_type": "execute_result"
    }
   ],
   "source": [
    "corr"
   ]
  },
  {
   "cell_type": "code",
   "execution_count": 14,
   "metadata": {
    "collapsed": false
   },
   "outputs": [
    {
     "data": {
      "image/png": "[encoded data removed]",
      "text/plain": [
       "<matplotlib.figure.Figure at 0x211a0848470>"
      ]
     },
     "metadata": {},
     "output_type": "display_data"
    }
   ],
   "source": [
    "fig, (ax_breaches, ax_dtocs) = plt.subplots(2, 1, sharex=True)\n",
    "ax_breaches.plot(breaches_diff.loc[breaches_diff.index > 0])\n",
    "ax_breaches.set_title('Breaches')\n",
    "ax_dtocs.plot(dtoc_total_diff.loc[dtoc_total_diff.index > 0])\n",
    "ax_dtocs.set_title('DToCs')\n",
    "ax_breaches.margins(0, 0.1)\n",
    "fig.tight_layout()\n"
   ]
  },
  {
   "cell_type": "code",
   "execution_count": 15,
   "metadata": {
    "collapsed": false
   },
   "outputs": [
    {
     "data": {
      "text/plain": [
       "<matplotlib.lines.Line2D at 0x211a0a11550>"
      ]
     },
     "execution_count": 15,
     "metadata": {},
     "output_type": "execute_result"
    },
    {
     "data": {
      "image/png": "[encoded data removed]",
      "text/plain": [
       "<matplotlib.figure.Figure at 0x211a0967898>"
      ]
     },
     "metadata": {},
     "output_type": "display_data"
    }
   ],
   "source": [
    "fig, ax_corr = plt.subplots(1, 1, sharex=True)\n",
    "ax_corr.plot(corr)\n",
    "ax_corr.set_title('Cross-correlation')\n",
    "ax_corr.set_xlabel('lag')\n",
    "ax_corr.axhline(0.0, ls=':')"
   ]
  },
  {
   "cell_type": "markdown",
   "metadata": {},
   "source": [
    "Notes:\n",
    "Might need to take 2nd difference."
   ]
  },
  {
   "cell_type": "markdown",
   "metadata": {},
   "source": [
    "Note sure what you do about interpretation of significance?"
   ]
  }
 ],
 "metadata": {
  "kernelspec": {
   "display_name": "Python [default]",
   "language": "python",
   "name": "python3"
  },
  "language_info": {
   "codemirror_mode": {
    "name": "ipython",
    "version": 3
   },
   "file_extension": ".py",
   "mimetype": "text/x-python",
   "name": "python",
   "nbconvert_exporter": "python",
   "pygments_lexer": "ipython3",
   "version": "3.5.3"
  }
 },
 "nbformat": 4,
 "nbformat_minor": 2
}
